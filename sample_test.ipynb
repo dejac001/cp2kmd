{
 "cells": [
  {
   "cell_type": "markdown",
   "metadata": {},
   "source": [
    "# CP2K MD workflow"
   ]
  },
  {
   "cell_type": "code",
   "execution_count": 1,
   "metadata": {},
   "outputs": [],
   "source": [
    "# Deleting files that we do not need, files generated from a previous run\n",
    "import os\n",
    "import glob\n",
    "\n",
    "extension_list=[\"*inp*\",\"*out\",\"*ener\",\"*rest*\",\"*Hess*\",\"*REST*\",\"*.xyz\",\"*.pdb\"]\n",
    "for name in extension_list:\n",
    "    \n",
    "    filelist=glob.glob(name)\n",
    "    for file in filelist:\n",
    "        os.remove(file)"
   ]
  },
  {
   "cell_type": "markdown",
   "metadata": {},
   "source": [
    "### Loading modules"
   ]
  },
  {
   "cell_type": "code",
   "execution_count": 2,
   "metadata": {},
   "outputs": [],
   "source": [
    "\n",
    "import mbuild as mb \n",
    "\n",
    "import signac\n",
    "import flow\n",
    "from shutil import copyfile\n",
    "\n",
    "import numpy as np\n",
    "from cp2kmd import Cp2kmd\n",
    "import runners\n",
    "import unyt as u"
   ]
  },
  {
   "cell_type": "code",
   "execution_count": null,
   "metadata": {},
   "outputs": [],
   "source": []
  },
  {
   "cell_type": "code",
   "execution_count": null,
   "metadata": {},
   "outputs": [],
   "source": []
  },
  {
   "cell_type": "markdown",
   "metadata": {},
   "source": [
    "### Defining the molecule"
   ]
  },
  {
   "cell_type": "code",
   "execution_count": 3,
   "metadata": {},
   "outputs": [],
   "source": [
    "class Cl2(mb.Compound): # this class builds a chlorine molecule with a bond-length given in the chlorine2 x coor (nm)\n",
    "    def __init__(self):\n",
    "        super(Cl2, self).__init__()\n",
    "        \n",
    "        chlorine1= mb.Particle(pos=[0.0, 0.0, 0.0], name='F')\n",
    "        chlorine2= mb.Particle(pos=[0.2, 0.0, 0.0], name='Cl')\n",
    "        self.add([chlorine2,chlorine1])\n",
    "        self.add_bond((chlorine2,chlorine1))\n"
   ]
  },
  {
   "cell_type": "code",
   "execution_count": 4,
   "metadata": {},
   "outputs": [],
   "source": [
    "\n",
    "md=Cp2kmd(molecule=Cl2())\n",
    "\n"
   ]
  },
  {
   "cell_type": "code",
   "execution_count": 5,
   "metadata": {},
   "outputs": [
    {
     "data": {
      "text/plain": [
       "['CUTOFF',\n",
       " 'SCF_tolerence',\n",
       " '__class__',\n",
       " '__delattr__',\n",
       " '__dict__',\n",
       " '__dir__',\n",
       " '__doc__',\n",
       " '__eq__',\n",
       " '__format__',\n",
       " '__ge__',\n",
       " '__getattribute__',\n",
       " '__gt__',\n",
       " '__hash__',\n",
       " '__init__',\n",
       " '__init_subclass__',\n",
       " '__le__',\n",
       " '__lt__',\n",
       " '__module__',\n",
       " '__ne__',\n",
       " '__new__',\n",
       " '__reduce__',\n",
       " '__reduce_ex__',\n",
       " '__repr__',\n",
       " '__setattr__',\n",
       " '__sizeof__',\n",
       " '__str__',\n",
       " '__subclasshook__',\n",
       " '__weakref__',\n",
       " 'basis_set',\n",
       " 'box_length',\n",
       " 'dire',\n",
       " 'ensemble',\n",
       " 'functional',\n",
       " 'molecule',\n",
       " 'number_atom_per_molecule',\n",
       " 'number_of_molecules',\n",
       " 'optimize_files',\n",
       " 'project_name',\n",
       " 'run_main_files',\n",
       " 'run_pre_files',\n",
       " 'simulation_time',\n",
       " 'temperature',\n",
       " 'thermostat',\n",
       " 'timestep']"
      ]
     },
     "execution_count": 5,
     "metadata": {},
     "output_type": "execute_result"
    }
   ],
   "source": [
    "dir(md)"
   ]
  },
  {
   "cell_type": "markdown",
   "metadata": {},
   "source": [
    "### Forcefield and ensemble"
   ]
  },
  {
   "cell_type": "code",
   "execution_count": 6,
   "metadata": {},
   "outputs": [],
   "source": [
    "\n",
    "md.basis_set=['DZVP-MOLOPT-SR-GTH','DZVP-MOLOPT-SR-GTH']\n",
    "md.box_length=1.1*u.nm;\n",
    "md.dire='/home/siepmann/singh891/cp2k-6.1.0/data/'\n",
    "md.ensemble='NVT'\n",
    "md.number_of_molecules=10\n",
    "md.temperature=273.15*u.K\n",
    "md.simulation_time=0.002*u.ps #ps\n",
    "md.CUTOFF=400\n",
    "md.functional='PBE'\n",
    "md.project_name='chlorine'\n",
    "md.timestep=1*u.fs;"
   ]
  },
  {
   "cell_type": "code",
   "execution_count": null,
   "metadata": {},
   "outputs": [],
   "source": []
  },
  {
   "cell_type": "markdown",
   "metadata": {},
   "source": [
    "### Generating opt input file"
   ]
  },
  {
   "cell_type": "code",
   "execution_count": 7,
   "metadata": {},
   "outputs": [],
   "source": [
    "md.optimize_files()"
   ]
  },
  {
   "cell_type": "code",
   "execution_count": 8,
   "metadata": {},
   "outputs": [
    {
     "name": "stdout",
     "output_type": "stream",
     "text": [
      "&GLOBAL\r\n",
      "  RUN_TYPE     GEO_OPT\r\n",
      "  PROJECT      molecule_opt\r\n",
      "  PRINT_LEVEL  LOW\r\n",
      "&END GLOBAL\r\n",
      "&MOTION\r\n",
      "  &MD\r\n",
      "    &THERMOSTAT       \r\n",
      "    &END THERMOSTAT       \r\n",
      "    &AVERAGES       \r\n",
      "    &END AVERAGES       \r\n",
      "    &PRINT       \r\n",
      "      &ENERGY       \r\n",
      "        &EACH       \r\n",
      "        &END EACH       \r\n",
      "      &END ENERGY       \r\n",
      "      &PROGRAM_RUN_INFO       \r\n",
      "        &EACH       \r\n",
      "        &END EACH       \r\n",
      "      &END PROGRAM_RUN_INFO     \r\n",
      "    &END PRINT       \r\n",
      "  &END MD\r\n",
      " \r\n",
      "  &CONSTRAINT\r\n",
      "    &FIXED_ATOMS      \r\n",
      "      LIST            1 \r\n",
      "    &END FIXED_ATOMS       \r\n",
      "  &END CONSTRAINT\r\n",
      " \r\n",
      "  &PRINT \r\n",
      "  &END PRINT \r\n",
      "  &GEO_OPT \r\n",
      "    MAX_DR        0.001\r\n",
      "    MAX_FORCE        0.001\r\n",
      "    MAX_ITER        2\r\n",
      "    OPTIMIZER        BFGS\r\n",
      "    TYPE MINIMIZATION\r\n",
      "  &END GEO_OPT \r\n",
      "&END MOTION \r\n",
      "&FORCE_EVAL\r\n",
      "  METHOD        QUICKSTEP\r\n",
      "  &DFT        \r\n",
      "    BASIS_SET_FILE_NAME        /home/siepmann/singh891/cp2k-6.1.0/data/BASIS_MOLOPT\r\n",
      "    POTENTIAL_FILE_NAME        /home/siepmann/singh891/cp2k-6.1.0/data/GTH_POTENTIALS\r\n",
      "    &MGRID        \r\n",
      "      CUTOFF      400\r\n",
      "      NGRIDS      5\r\n",
      "      REL_CUTOFF      50\r\n",
      "    &END MGRID        \r\n",
      "    &QS        \r\n",
      "      EPS_DEFAULT       1e-10\r\n",
      "    &END QS        \r\n",
      "    &POISSON        \r\n",
      "      &EWALD        \r\n",
      "      &END EWALD        \r\n",
      "    &END POISSON        \r\n",
      "    &PRINT         \r\n",
      "    &END PRINT        \r\n",
      "    &SCF        \r\n",
      "      EPS_SCF       1e-06\r\n",
      "      MAX_SCF       200\r\n",
      "      SCF_GUESS       ATOMIC\r\n",
      "    &END SCF        \r\n",
      "    &XC        \r\n",
      "      &XC_FUNCTIONAL       PBE \r\n",
      "      &END XC_FUNCTIONAL     \r\n",
      "      &VDW_POTENTIAL        \r\n",
      "        POTENTIAL_TYPE       PAIR_POTENTIAL\r\n",
      "        &PAIR_POTENTIAL        \r\n",
      "          PARAMETER_FILE_NAME       dftd3.dat\r\n",
      "          REFERENCE_FUNCTIONAL       PBE\r\n",
      "          R_CUTOFF       11\r\n",
      "          TYPE       DFTD3\r\n",
      "        &END PAIR_POTENTIAL        \r\n",
      "      &END VDW_POTENTIAL        \r\n",
      "    &END XC        \r\n",
      "  &END DFT        \r\n",
      "  &SUBSYS        \r\n",
      "    &CELL        \r\n",
      "      ABC       22.0 22.0 22.0\r\n",
      "    &END CELL        \r\n",
      "    &COORD        \r\n",
      "      @INCLUDE       mol_unopt_coord.xyz\r\n",
      "    &END COORD        \r\n",
      "    &KIND      Cl\r\n",
      "      BASIS_SET       DZVP-MOLOPT-SR-GTH\r\n",
      "      POTENTIAL       GTH-PBE\r\n",
      "    &END KIND        \r\n",
      "    &KIND      F\r\n",
      "      BASIS_SET       DZVP-MOLOPT-SR-GTH\r\n",
      "      POTENTIAL       GTH-PBE\r\n",
      "    &END KIND        \r\n",
      "  &END SUBSYS        \r\n",
      "&END FORCE_EVAL        \r\n"
     ]
    }
   ],
   "source": [
    "!cat mol_opt.inp"
   ]
  },
  {
   "cell_type": "markdown",
   "metadata": {},
   "source": [
    "### Running molecule optimization"
   ]
  },
  {
   "cell_type": "code",
   "execution_count": 9,
   "metadata": {},
   "outputs": [
    {
     "name": "stdout",
     "output_type": "stream",
     "text": [
      "mol_opt.inp\n",
      "opt completed\n"
     ]
    }
   ],
   "source": [
    "\n",
    "runners.run_optimize(md)\n",
    "print('opt completed')"
   ]
  },
  {
   "cell_type": "markdown",
   "metadata": {},
   "source": [
    "### Generating pre run files"
   ]
  },
  {
   "cell_type": "code",
   "execution_count": 10,
   "metadata": {},
   "outputs": [
    {
     "name": "stdout",
     "output_type": "stream",
     "text": [
      "10\n"
     ]
    }
   ],
   "source": [
    "md.run_pre_files()"
   ]
  },
  {
   "cell_type": "markdown",
   "metadata": {},
   "source": [
    "### pre run"
   ]
  },
  {
   "cell_type": "code",
   "execution_count": 11,
   "metadata": {},
   "outputs": [],
   "source": [
    "\n",
    "runners.run_md_pre(md)"
   ]
  },
  {
   "cell_type": "code",
   "execution_count": 12,
   "metadata": {},
   "outputs": [
    {
     "name": "stdout",
     "output_type": "stream",
     "text": [
      "&GLOBAL\r\n",
      "  RUN_TYPE     MD\r\n",
      "  PROJECT      chlorinepre\r\n",
      "  PRINT_LEVEL  LOW\r\n",
      "&END GLOBAL\r\n",
      "&MOTION\r\n",
      "  &MD\r\n",
      "    ENSEMBLE        NVT\r\n",
      "    TIMESTEP        0.2\r\n",
      "    STEPS           1\r\n",
      "    TEMPERATURE     273.15\r\n",
      "    &THERMOSTAT       \r\n",
      "      TYPE            NOSE \r\n",
      "      REGION          MASSIVE \r\n",
      "      &NOSE             \r\n",
      "        LENGTH       3\r\n",
      "        MTS          2\r\n",
      "        TIMECON      1000.0\r\n",
      "        YOSHIDA      3\r\n",
      "      &END NOSE             \r\n",
      "    &END THERMOSTAT       \r\n",
      "    &AVERAGES       \r\n",
      "    &END AVERAGES       \r\n",
      "    &PRINT       \r\n",
      "      &ENERGY       \r\n",
      "        &EACH       \r\n",
      "        &END EACH       \r\n",
      "      &END ENERGY       \r\n",
      "      &PROGRAM_RUN_INFO       \r\n",
      "        &EACH       \r\n",
      "        &END EACH       \r\n",
      "      &END PROGRAM_RUN_INFO     \r\n",
      "    &END PRINT       \r\n",
      "  &END MD\r\n",
      " \r\n",
      "  &CONSTRAINT\r\n",
      "    &FIXED_ATOMS      \r\n",
      "    &END FIXED_ATOMS       \r\n",
      "  &END CONSTRAINT\r\n",
      " \r\n",
      "  &PRINT \r\n",
      "    &FORCES        OFF\r\n",
      "      &EACH       \r\n",
      "      &END EACH       \r\n",
      "    &END FORCES        \r\n",
      "    &RESTART_HISTORY        ON\r\n",
      "      &EACH       \r\n",
      "        MD              500             \r\n",
      "      &END EACH       \r\n",
      "    &END RESTART_HISTORY        \r\n",
      "    &RESTART        ON\r\n",
      "      BACKUP_COPIES        3\r\n",
      "      &EACH       \r\n",
      "        MD              1             \r\n",
      "      &END EACH       \r\n",
      "    &END RESTART        \r\n",
      "    &STRESS       OFF\r\n",
      "      &EACH       \r\n",
      "      &END EACH       \r\n",
      "    &END STRESS       \r\n",
      "    &VELOCITIES       OFF\r\n",
      "      &EACH       \r\n",
      "      &END EACH       \r\n",
      "    &END VELOCITIES       \r\n",
      "  &END PRINT \r\n",
      "  &GEO_OPT \r\n",
      "    MAX_DR        0.003\r\n",
      "    MAX_FORCE        0.003\r\n",
      "    MAX_ITER        100\r\n",
      "    OPTIMIZER        BFGS\r\n",
      "  &END GEO_OPT \r\n",
      "&END MOTION \r\n",
      "&FORCE_EVAL\r\n",
      "  METHOD        QUICKSTEP\r\n",
      "  STRESS_TENSOR        ANALYTICAL\r\n",
      "  &DFT        \r\n",
      "    BASIS_SET_FILE_NAME        /home/siepmann/singh891/cp2k-6.1.0/data/BASIS_MOLOPT\r\n",
      "    CHARGE        0\r\n",
      "    MULTIPLICITY        1\r\n",
      "    POTENTIAL_FILE_NAME        /home/siepmann/singh891/cp2k-6.1.0/data/GTH_POTENTIALS\r\n",
      "    &MGRID        \r\n",
      "      CUTOFF      400\r\n",
      "      NGRIDS      4\r\n",
      "      REL_CUTOFF      50\r\n",
      "    &END MGRID        \r\n",
      "    &QS        \r\n",
      "      EPS_DEFAULT       1e-08\r\n",
      "      EXTRAPOLATION       ASPC\r\n",
      "      METHOD       GPW\r\n",
      "    &END QS        \r\n",
      "    &POISSON        \r\n",
      "      PERIODIC       XYZ\r\n",
      "      &EWALD        \r\n",
      "      &END EWALD        \r\n",
      "    &END POISSON        \r\n",
      "    &PRINT         \r\n",
      "      &E_DENSITY_CUBE       OFF\r\n",
      "      &END E_DENSITY_CUBE       \r\n",
      "    &END PRINT        \r\n",
      "    &SCF        \r\n",
      "      EPS_SCF       1e-06\r\n",
      "      MAX_SCF       2\r\n",
      "      SCF_GUESS       ATOMIC\r\n",
      "      &OT       .TRUE. \r\n",
      "        MINIMIZER       DIIS\r\n",
      "        PRECONDITIONER       FULL_SINGLE_INVERSE\r\n",
      "      &END OT        \r\n",
      "      &OUTER_SCF       .TRUE. \r\n",
      "        EPS_SCF       1e-06\r\n",
      "        MAX_SCF       10\r\n",
      "      &END OUTER_SCF        \r\n",
      "      &PRINT        \r\n",
      "        DM_RESTART_WRITE       .TRUE.\r\n",
      "        &RESTART       OFF\r\n",
      "      &END RESTART   \r\n",
      "      &END PRINT       \r\n",
      "    &END SCF        \r\n",
      "    &XC        \r\n",
      "      &XC_FUNCTIONAL       PBE \r\n",
      "      &END XC_FUNCTIONAL     \r\n",
      "      &VDW_POTENTIAL        \r\n",
      "        POTENTIAL_TYPE       PAIR_POTENTIAL\r\n",
      "        &PAIR_POTENTIAL        \r\n",
      "          PARAMETER_FILE_NAME       dftd3.dat\r\n",
      "          REFERENCE_FUNCTIONAL       PBE\r\n",
      "          R_CUTOFF       11\r\n",
      "          TYPE       DFTD3\r\n",
      "        &END PAIR_POTENTIAL        \r\n",
      "      &END VDW_POTENTIAL        \r\n",
      "    &END XC        \r\n",
      "  &END DFT        \r\n",
      "  &SUBSYS        \r\n",
      "    &CELL        \r\n",
      "      ABC       11.0 11.0 11.0\r\n",
      "    &END CELL        \r\n",
      "    &COORD        \r\n",
      "      @INCLUDE       chlorine.xyz\r\n",
      "    &END COORD        \r\n",
      "    &KIND      Cl\r\n",
      "      BASIS_SET       DZVP-MOLOPT-SR-GTH\r\n",
      "      POTENTIAL       GTH-PBE\r\n",
      "    &END KIND        \r\n",
      "    &KIND      F\r\n",
      "      BASIS_SET       DZVP-MOLOPT-SR-GTH\r\n",
      "      POTENTIAL       GTH-PBE\r\n",
      "    &END KIND        \r\n",
      "  &END SUBSYS        \r\n",
      "&END FORCE_EVAL        \r\n"
     ]
    }
   ],
   "source": [
    "!cat md-pre.inp"
   ]
  },
  {
   "cell_type": "markdown",
   "metadata": {},
   "source": [
    "### Generating main run files"
   ]
  },
  {
   "cell_type": "code",
   "execution_count": 13,
   "metadata": {},
   "outputs": [],
   "source": [
    "md.run_main_files()"
   ]
  },
  {
   "cell_type": "markdown",
   "metadata": {},
   "source": [
    "### Running main MD"
   ]
  },
  {
   "cell_type": "code",
   "execution_count": 14,
   "metadata": {},
   "outputs": [],
   "source": [
    "runners.run_md_main(md)"
   ]
  },
  {
   "cell_type": "code",
   "execution_count": 15,
   "metadata": {},
   "outputs": [
    {
     "name": "stdout",
     "output_type": "stream",
     "text": [
      "&GLOBAL\r\n",
      "  RUN_TYPE     MD\r\n",
      "  PROJECT      chlorinepre\r\n",
      "  PRINT_LEVEL  LOW\r\n",
      "&END GLOBAL\r\n",
      "&MOTION\r\n",
      "  &MD\r\n",
      "    ENSEMBLE        NVT\r\n",
      "    TIMESTEP        0.2\r\n",
      "    STEPS           1\r\n",
      "    TEMPERATURE     273.15\r\n",
      "    &THERMOSTAT       \r\n",
      "      TYPE            NOSE \r\n",
      "      REGION          MASSIVE \r\n",
      "      &NOSE             \r\n",
      "        LENGTH       3\r\n",
      "        MTS          2\r\n",
      "        TIMECON      1000.0\r\n",
      "        YOSHIDA      3\r\n",
      "      &END NOSE             \r\n",
      "    &END THERMOSTAT       \r\n",
      "    &AVERAGES       \r\n",
      "    &END AVERAGES       \r\n",
      "    &PRINT       \r\n",
      "      &ENERGY       \r\n",
      "        &EACH       \r\n",
      "        &END EACH       \r\n",
      "      &END ENERGY       \r\n",
      "      &PROGRAM_RUN_INFO       \r\n",
      "        &EACH       \r\n",
      "        &END EACH       \r\n",
      "      &END PROGRAM_RUN_INFO     \r\n",
      "    &END PRINT       \r\n",
      "  &END MD\r\n",
      " \r\n",
      "  &CONSTRAINT\r\n",
      "    &FIXED_ATOMS      \r\n",
      "    &END FIXED_ATOMS       \r\n",
      "  &END CONSTRAINT\r\n",
      " \r\n",
      "  &PRINT \r\n",
      "    &FORCES        OFF\r\n",
      "      &EACH       \r\n",
      "      &END EACH       \r\n",
      "    &END FORCES        \r\n",
      "    &RESTART_HISTORY        ON\r\n",
      "      &EACH       \r\n",
      "        MD              500             \r\n",
      "      &END EACH       \r\n",
      "    &END RESTART_HISTORY        \r\n",
      "    &RESTART        ON\r\n",
      "      BACKUP_COPIES        3\r\n",
      "      &EACH       \r\n",
      "        MD              1             \r\n",
      "      &END EACH       \r\n",
      "    &END RESTART        \r\n",
      "    &STRESS       OFF\r\n",
      "      &EACH       \r\n",
      "      &END EACH       \r\n",
      "    &END STRESS       \r\n",
      "    &VELOCITIES       OFF\r\n",
      "      &EACH       \r\n",
      "      &END EACH       \r\n",
      "    &END VELOCITIES       \r\n",
      "  &END PRINT \r\n",
      "  &GEO_OPT \r\n",
      "    MAX_DR        0.003\r\n",
      "    MAX_FORCE        0.003\r\n",
      "    MAX_ITER        100\r\n",
      "    OPTIMIZER        BFGS\r\n",
      "  &END GEO_OPT \r\n",
      "&END MOTION \r\n",
      "&FORCE_EVAL\r\n",
      "  METHOD        QUICKSTEP\r\n",
      "  STRESS_TENSOR        ANALYTICAL\r\n",
      "  &DFT        \r\n",
      "    BASIS_SET_FILE_NAME        /home/siepmann/singh891/cp2k-6.1.0/data/BASIS_MOLOPT\r\n",
      "    CHARGE        0\r\n",
      "    MULTIPLICITY        1\r\n",
      "    POTENTIAL_FILE_NAME        /home/siepmann/singh891/cp2k-6.1.0/data/GTH_POTENTIALS\r\n",
      "    &MGRID        \r\n",
      "      CUTOFF      400\r\n",
      "      NGRIDS      4\r\n",
      "      REL_CUTOFF      50\r\n",
      "    &END MGRID        \r\n",
      "    &QS        \r\n",
      "      EPS_DEFAULT       1e-08\r\n",
      "      EXTRAPOLATION       ASPC\r\n",
      "      METHOD       GPW\r\n",
      "    &END QS        \r\n",
      "    &POISSON        \r\n",
      "      PERIODIC       XYZ\r\n",
      "      &EWALD        \r\n",
      "      &END EWALD        \r\n",
      "    &END POISSON        \r\n",
      "    &PRINT         \r\n",
      "      &E_DENSITY_CUBE       OFF\r\n",
      "      &END E_DENSITY_CUBE       \r\n",
      "    &END PRINT        \r\n",
      "    &SCF        \r\n",
      "      EPS_SCF       1e-06\r\n",
      "      MAX_SCF       2\r\n",
      "      SCF_GUESS       ATOMIC\r\n",
      "      &OT       .TRUE. \r\n",
      "        MINIMIZER       DIIS\r\n",
      "        PRECONDITIONER       FULL_SINGLE_INVERSE\r\n",
      "      &END OT        \r\n",
      "      &OUTER_SCF       .TRUE. \r\n",
      "        EPS_SCF       1e-06\r\n",
      "        MAX_SCF       10\r\n",
      "      &END OUTER_SCF        \r\n",
      "      &PRINT        \r\n",
      "        DM_RESTART_WRITE       .TRUE.\r\n",
      "        &RESTART       OFF\r\n",
      "      &END RESTART   \r\n",
      "      &END PRINT       \r\n",
      "    &END SCF        \r\n",
      "    &XC        \r\n",
      "      &XC_FUNCTIONAL       PBE \r\n",
      "      &END XC_FUNCTIONAL     \r\n",
      "      &VDW_POTENTIAL        \r\n",
      "        POTENTIAL_TYPE       PAIR_POTENTIAL\r\n",
      "        &PAIR_POTENTIAL        \r\n",
      "          PARAMETER_FILE_NAME       dftd3.dat\r\n",
      "          REFERENCE_FUNCTIONAL       PBE\r\n",
      "          R_CUTOFF       11\r\n",
      "          TYPE       DFTD3\r\n",
      "        &END PAIR_POTENTIAL        \r\n",
      "      &END VDW_POTENTIAL        \r\n",
      "    &END XC        \r\n",
      "  &END DFT        \r\n",
      "  &SUBSYS        \r\n",
      "    &CELL        \r\n",
      "      ABC       11.0 11.0 11.0\r\n",
      "    &END CELL        \r\n",
      "    &COORD        \r\n",
      "      @INCLUDE       chlorine.xyz\r\n",
      "    &END COORD        \r\n",
      "    &KIND      Cl\r\n",
      "      BASIS_SET       DZVP-MOLOPT-SR-GTH\r\n",
      "      POTENTIAL       GTH-PBE\r\n",
      "    &END KIND        \r\n",
      "    &KIND      F\r\n",
      "      BASIS_SET       DZVP-MOLOPT-SR-GTH\r\n",
      "      POTENTIAL       GTH-PBE\r\n",
      "    &END KIND        \r\n",
      "  &END SUBSYS        \r\n",
      "&END FORCE_EVAL        \r\n"
     ]
    }
   ],
   "source": [
    "!cat md-pre.inp"
   ]
  },
  {
   "cell_type": "code",
   "execution_count": null,
   "metadata": {},
   "outputs": [],
   "source": []
  }
 ],
 "metadata": {
  "kernelspec": {
   "display_name": "Python 3",
   "language": "python",
   "name": "python3"
  },
  "language_info": {
   "codemirror_mode": {
    "name": "ipython",
    "version": 3
   },
   "file_extension": ".py",
   "mimetype": "text/x-python",
   "name": "python",
   "nbconvert_exporter": "python",
   "pygments_lexer": "ipython3",
   "version": "3.6.8"
  }
 },
 "nbformat": 4,
 "nbformat_minor": 2
}
