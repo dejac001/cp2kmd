{
 "cells": [
  {
   "cell_type": "markdown",
   "metadata": {},
   "source": [
    "# CP2K MD workflow"
   ]
  },
  {
   "cell_type": "code",
   "execution_count": 1,
   "metadata": {},
   "outputs": [],
   "source": [
    "# Deleting files that we do not need, files generated from a previous run\n",
    "import os\n",
    "import glob\n",
    "\n",
    "extension_list=[\"*inp*\",\"*out\",\"*ener\",\"*rest*\",\"*Hess*\",\"*REST*\",\"*.xyz\",\"*.pdb\"]\n",
    "for name in extension_list:\n",
    "    \n",
    "    filelist=glob.glob(name)\n",
    "    for file in filelist:\n",
    "        os.remove(file)"
   ]
  },
  {
   "cell_type": "markdown",
   "metadata": {},
   "source": [
    "### Loading modules"
   ]
  },
  {
   "cell_type": "code",
   "execution_count": 1,
   "metadata": {},
   "outputs": [],
   "source": [
    "\n",
    "import mbuild as mb \n",
    "\n",
    "import signac\n",
    "import flow\n",
    "from shutil import copyfile\n",
    "\n",
    "import numpy as np\n",
    "from cp2kmd import Cp2kmd\n",
    "import runners\n",
    "import unyt as u"
   ]
  },
  {
   "cell_type": "code",
   "execution_count": null,
   "metadata": {},
   "outputs": [],
   "source": []
  },
  {
   "cell_type": "markdown",
   "metadata": {},
   "source": [
    "### Defining the molecule"
   ]
  },
  {
   "cell_type": "code",
   "execution_count": 3,
   "metadata": {},
   "outputs": [],
   "source": [
    "class Cl2(mb.Compound): # this class builds a chlorine molecule with a bond-length given in the chlorine2 x coor (nm)\n",
    "    def __init__(self):\n",
    "        super(Cl2, self).__init__()\n",
    "        \n",
    "        chlorine1= mb.Particle(pos=[0.0, 0.0, 0.0], name='Cl')\n",
    "        chlorine2= mb.Particle(pos=[0.2, 0.0, 0.0], name='Cl')\n",
    "        self.add([chlorine2,chlorine1])\n",
    "        self.add_bond((chlorine2,chlorine1))\n",
    "        \n",
    "class FCl(mb.Compound): # this class builds a chlorine molecule with a bond-length given in the chlorine2 x coor (nm)\n",
    "    def __init__(self):\n",
    "        super(FCl, self).__init__()\n",
    "        \n",
    "        chlorine1= mb.Particle(pos=[0.0, 0.0, 0.0], name='F')\n",
    "        chlorine2= mb.Particle(pos=[0.2, 0.0, 0.0], name='Cl')\n",
    "        self.add([chlorine2,chlorine1])\n",
    "        self.add_bond((chlorine2,chlorine1))\n"
   ]
  },
  {
   "cell_type": "code",
   "execution_count": 4,
   "metadata": {},
   "outputs": [],
   "source": [
    "\n",
    "md=Cp2kmd(molecule=[Cl2(),FCl()])\n",
    "\n"
   ]
  },
  {
   "cell_type": "code",
   "execution_count": 5,
   "metadata": {},
   "outputs": [
    {
     "data": {
      "text/plain": [
       "['CUTOFF',\n",
       " 'SCF_tolerence',\n",
       " '__class__',\n",
       " '__delattr__',\n",
       " '__dict__',\n",
       " '__dir__',\n",
       " '__doc__',\n",
       " '__eq__',\n",
       " '__format__',\n",
       " '__ge__',\n",
       " '__getattribute__',\n",
       " '__gt__',\n",
       " '__hash__',\n",
       " '__init__',\n",
       " '__init_subclass__',\n",
       " '__le__',\n",
       " '__lt__',\n",
       " '__module__',\n",
       " '__ne__',\n",
       " '__new__',\n",
       " '__reduce__',\n",
       " '__reduce_ex__',\n",
       " '__repr__',\n",
       " '__setattr__',\n",
       " '__sizeof__',\n",
       " '__str__',\n",
       " '__subclasshook__',\n",
       " '__weakref__',\n",
       " 'basis_set',\n",
       " 'box_length',\n",
       " 'dire',\n",
       " 'ensemble',\n",
       " 'functional',\n",
       " 'molecule',\n",
       " 'number_atom_per_molecule',\n",
       " 'number_of_molecules',\n",
       " 'optimize_files',\n",
       " 'project_name',\n",
       " 'run_main_files',\n",
       " 'run_pre_files',\n",
       " 'simulation_time',\n",
       " 'temperature',\n",
       " 'thermostat',\n",
       " 'timestep']"
      ]
     },
     "execution_count": 5,
     "metadata": {},
     "output_type": "execute_result"
    }
   ],
   "source": [
    "dir(md)"
   ]
  },
  {
   "cell_type": "markdown",
   "metadata": {},
   "source": [
    "### Forcefield and ensemble"
   ]
  },
  {
   "cell_type": "code",
   "execution_count": 6,
   "metadata": {},
   "outputs": [],
   "source": [
    "\n",
    "md.basis_set={'F':'DZVP-MOLOPT-SR-GTH','Cl':'DZVP-MOLOPT-SR-GTH'}\n",
    "md.box_length=1.1*u.nm;\n",
    "md.dire='/home/siepmann/singh891/cp2k-6.1.0/data/'\n",
    "md.ensemble='NVT'\n",
    "md.number_of_molecules=[10,10]\n",
    "md.temperature=273.15*u.K\n",
    "md.simulation_time=0.002*u.ps #ps\n",
    "md.CUTOFF=400\n",
    "md.functional='PBE'\n",
    "md.project_name='chlorine'\n",
    "md.timestep=1*u.fs;"
   ]
  },
  {
   "cell_type": "code",
   "execution_count": null,
   "metadata": {},
   "outputs": [],
   "source": []
  },
  {
   "cell_type": "markdown",
   "metadata": {},
   "source": [
    "### Generating opt input file"
   ]
  },
  {
   "cell_type": "code",
   "execution_count": 7,
   "metadata": {},
   "outputs": [],
   "source": [
    "md.optimize_files()"
   ]
  },
  {
   "cell_type": "markdown",
   "metadata": {},
   "source": [
    "### Running molecule optimization"
   ]
  },
  {
   "cell_type": "code",
   "execution_count": 9,
   "metadata": {},
   "outputs": [
    {
     "name": "stdout",
     "output_type": "stream",
     "text": [
      "Cl2_opt.inp\n",
      "FCl_opt.inp\n",
      "opt completed\n"
     ]
    }
   ],
   "source": [
    "\n",
    "runners.run_optimize(md)\n",
    "print('opt completed')"
   ]
  },
  {
   "cell_type": "markdown",
   "metadata": {},
   "source": [
    "### Generating pre run files"
   ]
  },
  {
   "cell_type": "code",
   "execution_count": 11,
   "metadata": {},
   "outputs": [],
   "source": [
    "md.run_pre_files()"
   ]
  },
  {
   "cell_type": "markdown",
   "metadata": {},
   "source": [
    "### pre run"
   ]
  },
  {
   "cell_type": "code",
   "execution_count": 12,
   "metadata": {},
   "outputs": [],
   "source": [
    "\n",
    "runners.run_md_pre(md)"
   ]
  },
  {
   "cell_type": "markdown",
   "metadata": {},
   "source": [
    "### Generating main run files"
   ]
  },
  {
   "cell_type": "code",
   "execution_count": 15,
   "metadata": {},
   "outputs": [],
   "source": [
    "md.run_main_files()"
   ]
  },
  {
   "cell_type": "markdown",
   "metadata": {},
   "source": [
    "### Running main MD"
   ]
  },
  {
   "cell_type": "code",
   "execution_count": 16,
   "metadata": {},
   "outputs": [],
   "source": [
    "runners.run_md_main(md)"
   ]
  },
  {
   "cell_type": "code",
   "execution_count": null,
   "metadata": {},
   "outputs": [],
   "source": []
  }
 ],
 "metadata": {
  "kernelspec": {
   "display_name": "Python 3",
   "language": "python",
   "name": "python3"
  },
  "language_info": {
   "codemirror_mode": {
    "name": "ipython",
    "version": 3
   },
   "file_extension": ".py",
   "mimetype": "text/x-python",
   "name": "python",
   "nbconvert_exporter": "python",
   "pygments_lexer": "ipython3",
   "version": "3.6.8"
  }
 },
 "nbformat": 4,
 "nbformat_minor": 2
}
